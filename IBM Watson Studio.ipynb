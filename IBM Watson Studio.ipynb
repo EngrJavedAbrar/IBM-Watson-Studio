{
    "cells": [
        {
            "cell_type": "markdown",
            "metadata": {
                "collapsed": true
            },
            "source": "# My Jupyter Notebook on IBM Watson Studio"
        },
        {
            "cell_type": "markdown",
            "metadata": {},
            "source": "__Javed Abrar__ <br> Data Scientist"
        },
        {
            "cell_type": "markdown",
            "metadata": {},
            "source": "I am interested in data science because I love to insights data and draw graphs from data."
        },
        {
            "cell_type": "markdown",
            "metadata": {},
            "source": "My Code is going to add two numbers "
        },
        {
            "cell_type": "code",
            "execution_count": 2,
            "metadata": {},
            "outputs": [
                {
                    "data": {
                        "text/plain": "14"
                    },
                    "execution_count": 2,
                    "metadata": {},
                    "output_type": "execute_result"
                }
            ],
            "source": "x = 5 \ny = 9\n\nz = x + y\n\nz"
        },
        {
            "cell_type": "code",
            "execution_count": null,
            "metadata": {},
            "outputs": [],
            "source": "I love Coursera due to following reasons:\n    1. Affordability\n    2. Quility\n    3. Flexibility\n    4. "
        }
    ],
    "metadata": {
        "kernelspec": {
            "display_name": "Python 3.6",
            "language": "python",
            "name": "python3"
        },
        "language_info": {
            "codemirror_mode": {
                "name": "ipython",
                "version": 3
            },
            "file_extension": ".py",
            "mimetype": "text/x-python",
            "name": "python",
            "nbconvert_exporter": "python",
            "pygments_lexer": "ipython3",
            "version": "3.6.9"
        }
    },
    "nbformat": 4,
    "nbformat_minor": 1
}